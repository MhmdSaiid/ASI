{
 "cells": [
  {
   "cell_type": "markdown",
   "metadata": {},
   "source": [
    "<h1 style=\"text-align:center\">Advanced Statistical Inference</h1>\n",
    "<h1 style=\"text-align:center\">Bayesian Logistic Regression - Metropolis-Hastings</h1>\n",
    "\n"
   ]
  },
  {
   "cell_type": "markdown",
   "metadata": {},
   "source": [
    "## 1. Aims\n",
    "<div class=\"alert alert-info\">\n",
    "<ul> \n",
    "<li> To implement the MH algorithm.\n",
    "<li> To use it to compute classification probabilities.\n",
    "</ul>\n",
    "</div>"
   ]
  },
  {
   "cell_type": "markdown",
   "metadata": {},
   "source": [
    "## 2. Metropolis-Hastings\n",
    "<div class=\"alert alert-info\">\n",
    "In this lab, you’re going to implement the Metropolis-Hasting algorithm described in the lecture.\n",
    "Use the binary classification data `binaryclass2.mat` and the function `laplacecomp()`. If you\n",
    "pass this function a 2-dimensional $w$ vector, it will return $g(w; X, t, \\sigma^2)$ and $log(g(w; X, t, \\sigma^2))$.\n",
    "(Remember that $g(w; X, t, \\sigma^2) \\propto p(w|X, t, \\sigma^2)$, the posterior density of interest.)\n",
    "</div>"
   ]
  },
  {
   "cell_type": "code",
   "execution_count": 1,
   "metadata": {
    "collapsed": true
   },
   "outputs": [],
   "source": [
    "import scipy.io\n",
    "from scipy import stats\n",
    "import numpy as np\n",
    "import matplotlib.pyplot as plt\n",
    "mat = scipy.io.loadmat('binaryclass2.mat')"
   ]
  },
  {
   "cell_type": "code",
   "execution_count": 2,
   "metadata": {
    "collapsed": true
   },
   "outputs": [],
   "source": [
    "X = mat['X']\n",
    "t = mat['t']"
   ]
  },
  {
   "cell_type": "markdown",
   "metadata": {},
   "source": [
    "<div class=\"alert alert-info\">\n",
    "Visualise the data using a scatter plot.\n",
    "</div>"
   ]
  },
  {
   "cell_type": "code",
   "execution_count": 58,
   "metadata": {
    "collapsed": true
   },
   "outputs": [],
   "source": [
    "border=np.max(np.where(t==0))"
   ]
  },
  {
   "cell_type": "code",
   "execution_count": 59,
   "metadata": {},
   "outputs": [
    {
     "data": {
      "image/png": "[encoded data removed]",
      "text/plain": [
       "<Figure size 432x288 with 1 Axes>"
      ]
     },
     "metadata": {},
     "output_type": "display_data"
    }
   ],
   "source": [
    "plt.scatter(X[:border+1].T[0],X[:border+1].T[1],c=['red'])\n",
    "plt.scatter(X[border+1:].T[0],X[border+1:].T[1],c=['blue'])\n",
    "plt.show()"
   ]
  },
  {
   "cell_type": "markdown",
   "metadata": {},
   "source": [
    "<div class=\"alert alert-info\">\n",
    "Make sure `laplacecomp()` works by passing it some different $w$ vectors ($w$ needs to have\n",
    "dimension 2×1).</div>"
   ]
  },
  {
   "cell_type": "code",
   "execution_count": 60,
   "metadata": {
    "collapsed": true
   },
   "outputs": [],
   "source": [
    "def laplacecomp(w,X,t):\n",
    "    \"\"\"This function computes g and log(g) for the laplace model introduced in the lecture.\"\"\"\n",
    "    w = np.array(w)\n",
    "    X = np.array(X)\n",
    "    t = np.array(t)\n",
    "    ss = 10 # Prior variance (sigma squared)\n",
    "    # Evaluate log prior\n",
    "    log_g = -(1/(2*ss))*w.T.dot(w)\n",
    "    # Compute P\n",
    "    P = 1/(1+np.exp(-X.dot(w)))\n",
    "    log_l = np.sum(t*np.log(P) + (1-t)*(np.log(1-P)))\n",
    "    log_g = log_g + log_l\n",
    "    g = np.exp(log_g)\n",
    "    return g[0][0], log_g[0][0]"
   ]
  },
  {
   "cell_type": "code",
   "execution_count": 72,
   "metadata": {},
   "outputs": [
    {
     "data": {
      "text/plain": [
       "(0.6449956243386271, -0.4385117461804966)"
      ]
     },
     "execution_count": 72,
     "metadata": {},
     "output_type": "execute_result"
    }
   ],
   "source": [
    "laplacecomp(np.array([[2],[1]]),X,t)"
   ]
  },
  {
   "cell_type": "markdown",
   "metadata": {},
   "source": [
    "<div class=\"alert alert-info\">\n",
    "\n",
    "Implement the MH algorithm (see the flowchart in the slides). \n",
    "<br>\n",
    "You might find it safest to work with $log(g)$ – the ratio then becomes a subtraction that must then be exponentiated. This has more numerical stability, especially when $w$ isn’t very good. You can start with any value of $w$. E.g., $w = randn(2,1)$. Also, use a Gaussian proposal: For example: $wp = randn(2,1)*0.5+w$ where $w$ is the current sample and $wp$ is the proposal and the Gaussian has standard deviation $0.5$ (set this as you please).\n",
    "</div>"
   ]
  },
  {
   "cell_type": "code",
   "execution_count": 90,
   "metadata": {
    "collapsed": true
   },
   "outputs": [],
   "source": [
    "def MH(X, t, numSamples):\n",
    "    \n",
    "    s=1\n",
    "    samples=[]\n",
    "    w=np.random.randn(2,1)\n",
    "    \n",
    "    while(s<=numSamples):\n",
    "        s+=1\n",
    "        \n",
    "        wp=np.random.randn(2,1)*0.5 + w\n",
    "\n",
    "        r=np.exp(laplacecomp(wp,X,t)[1]-laplacecomp(w,X,t)[1])\n",
    "\n",
    "        if(r>=1):\n",
    "            samples.append(wp)\n",
    "            w=wp\n",
    "        else:\n",
    "            u=np.random.randn()\n",
    "            if(u<=r):\n",
    "                samples.append(wp)\n",
    "                w=wp\n",
    "            else:\n",
    "                samples.append(w)\n",
    "                \n",
    "    return samples\n"
   ]
  },
  {
   "cell_type": "markdown",
   "metadata": {},
   "source": [
    "<div class=\"alert alert-info\">\n",
    "Draw samples from your MH algorithm and plot the distribution of values obtained.\n",
    "</div>"
   ]
  },
  {
   "cell_type": "code",
   "execution_count": 91,
   "metadata": {},
   "outputs": [
    {
     "name": "stderr",
     "output_type": "stream",
     "text": [
      "C:\\Anaconda3\\lib\\site-packages\\ipykernel_launcher.py:11: RuntimeWarning: divide by zero encountered in log\n",
      "  # This is added back by InteractiveShellApp.init_path()\n",
      "C:\\Anaconda3\\lib\\site-packages\\ipykernel_launcher.py:11: RuntimeWarning: invalid value encountered in multiply\n",
      "  # This is added back by InteractiveShellApp.init_path()\n"
     ]
    }
   ],
   "source": [
    "numSamples = 10000\n",
    "w_samples = MH(X,t, numSamples)"
   ]
  },
  {
   "cell_type": "code",
   "execution_count": 100,
   "metadata": {},
   "outputs": [
    {
     "data": {
      "image/png": "[encoded data removed]",
      "text/plain": [
       "<Figure size 432x288 with 1 Axes>"
      ]
     },
     "metadata": {},
     "output_type": "display_data"
    }
   ],
   "source": [
    "plt.scatter([x[0][0] for x in w_samples],[x[1][0] for x in w_samples])\n",
    "plt.show()"
   ]
  },
  {
   "cell_type": "markdown",
   "metadata": {},
   "source": [
    "<div class=\"alert alert-info\">\n",
    "Compute the probability $P (t_{new} = 1 | x_{new} , X, t)$ when $x_{new} = [2,-4]^T$ . \n",
    "<br>\n",
    "Hint – compute the probability for each value of $w$ using:\n",
    "$$ \\dfrac{1}{1+\\exp(-w^T x_{new})} $$\n",
    "</div>"
   ]
  },
  {
   "cell_type": "code",
   "execution_count": 111,
   "metadata": {
    "collapsed": true
   },
   "outputs": [],
   "source": [
    "def predict(samples, x_new):\n",
    "    p = 0\n",
    "    \n",
    "    probs=[1/(1+np.exp(-w.T.dot(x_new))) for w in samples]\n",
    "    p=np.sum(probs)/len(probs)\n",
    "    \n",
    "    return p"
   ]
  },
  {
   "cell_type": "code",
   "execution_count": 112,
   "metadata": {},
   "outputs": [
    {
     "data": {
      "text/plain": [
       "0.27847608400387036"
      ]
     },
     "execution_count": 112,
     "metadata": {},
     "output_type": "execute_result"
    }
   ],
   "source": [
    "x_new = np.array([2,-4])\n",
    "predict(w_samples, x_new)"
   ]
  },
  {
   "cell_type": "markdown",
   "metadata": {},
   "source": [
    "<div class=\"alert alert-success\">\n",
    "Create a contour plot over the given range of values, while also showing the prediction for ${x_{new}}$.\n",
    "</div>"
   ]
  },
  {
   "cell_type": "code",
   "execution_count": 118,
   "metadata": {},
   "outputs": [
    {
     "data": {
      "image/png": "[encoded data removed]",
      "text/plain": [
       "<Figure size 432x288 with 1 Axes>"
      ]
     },
     "metadata": {},
     "output_type": "display_data"
    }
   ],
   "source": [
    "x1min, x1max, x1step = (-6, 6.5, 0.5)\n",
    "x2min, x2max, x2step = (-6, 6.5, 0.5)\n",
    "x1_range = np.arange(x1min, x1max, x1step)\n",
    "x2_range = np.arange(x2min, x2max, x2step)\n",
    "\n",
    "plt.scatter(X[:border+1].T[0],X[:border+1].T[1],c=['red'])\n",
    "plt.scatter(X[border+1:].T[0],X[border+1:].T[1],c=['blue'])\n",
    "\n",
    "\n",
    "p=[]\n",
    "for x1 in x1_range:\n",
    "    pp=[]\n",
    "    for x2 in x2_range:\n",
    "        xnew=[x1,x2]\n",
    "        pp.append(predict(w_samples,xnew))\n",
    "    p.append(pp)\n",
    "\n",
    "CP=plt.contour(x1_range,x2_range,p)\n",
    "plt.clabel(CP, inline=1, fontsize=10)\n",
    "\n",
    "plt.show()"
   ]
  },
  {
   "cell_type": "markdown",
   "metadata": {},
   "source": [
    "<div class=\"alert alert-success\">\n",
    "Comment on the plot.\n",
    "</div>"
   ]
  },
  {
   "cell_type": "markdown",
   "metadata": {},
   "source": [
    "<div class=\"alert alert-success\">\n",
    "We can see that getting closer to the class makes the probability either high or low thus we can assign a class to the new point,however in the middle, we are still not sure which class to choose.</div>"
   ]
  }
 ],
 "metadata": {
  "kernelspec": {
   "display_name": "Python 3",
   "language": "python",
   "name": "python3"
  },
  "language_info": {
   "codemirror_mode": {
    "name": "ipython",
    "version": 3
   },
   "file_extension": ".py",
   "mimetype": "text/x-python",
   "name": "python",
   "nbconvert_exporter": "python",
   "pygments_lexer": "ipython3",
   "version": "3.6.1"
  }
 },
 "nbformat": 4,
 "nbformat_minor": 2
}
